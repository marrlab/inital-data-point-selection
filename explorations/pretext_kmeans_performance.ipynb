{
 "cells": [
  {
   "cell_type": "code",
   "execution_count": 84,
   "metadata": {},
   "outputs": [],
   "source": [
    "# cifar10\n",
    "FEATURES_PATH = '../outputs/2023-04-11/10-50-20/features.csv'\n",
    "NUM_CLASSES = 10\n",
    "\n",
    "# # matek\n",
    "# FEATURES_PATH = '../outputs/2023-04-09/12-50-29/features.csv'\n",
    "# NUM_CLASSES = 15\n",
    "\n",
    "\n",
    "STANDARD_SCALING = False"
   ]
  },
  {
   "cell_type": "code",
   "execution_count": 85,
   "metadata": {},
   "outputs": [],
   "source": [
    "import re\n",
    "import csv\n",
    "import numpy as np\n",
    "from sklearn.cluster import KMeans\n",
    "from sklearn import metrics\n",
    "from sklearn.preprocessing import StandardScaler\n",
    "from scipy.optimize import linear_sum_assignment"
   ]
  },
  {
   "cell_type": "code",
   "execution_count": 86,
   "metadata": {},
   "outputs": [],
   "source": [
    "\n",
    "def _hungarian_match(flat_preds, flat_targets, preds_k, targets_k):\n",
    "    # Based on implementation from IIC\n",
    "    num_samples = flat_targets.shape[0]\n",
    "\n",
    "    assert (preds_k == targets_k)  # one to one\n",
    "    num_k = preds_k\n",
    "    num_correct = np.zeros((num_k, num_k))\n",
    "\n",
    "    for c1 in range(num_k):\n",
    "        for c2 in range(num_k):\n",
    "            # elementwise, so each sample contributes once\n",
    "            votes = int(((flat_preds == c1) * (flat_targets == c2)).sum())\n",
    "            num_correct[c1, c2] = votes\n",
    "\n",
    "    # num_correct is small\n",
    "    match = linear_sum_assignment(num_samples - num_correct)\n",
    "    match = np.array(list(zip(*match)))\n",
    "\n",
    "    # return as list of tuples, out_c to gt_c\n",
    "    res = []\n",
    "    for out_c, gt_c in match:\n",
    "        res.append((out_c, gt_c))\n",
    "\n",
    "    return res\n",
    "\n",
    "def accuracy(predictions, targets):\n",
    "    match = _hungarian_match(predictions, targets, preds_k=NUM_CLASSES, targets_k=NUM_CLASSES)\n",
    "    reordered_preds = np.zeros(targets.size, dtype=predictions.dtype)\n",
    "    for pred_i, target_i in match:\n",
    "        reordered_preds[predictions == int(pred_i)] = int(target_i)\n",
    "\n",
    "    # Gather performance metrics\n",
    "    acc = int((reordered_preds == targets).sum()) / float(targets.size)\n",
    "    return acc"
   ]
  },
  {
   "cell_type": "code",
   "execution_count": 87,
   "metadata": {},
   "outputs": [
    {
     "name": "stdout",
     "output_type": "stream",
     "text": [
      "features: 50000\n",
      "feature dim: (512,)\n"
     ]
    }
   ],
   "source": [
    "features = {}\n",
    "with open(FEATURES_PATH, 'r') as csv_file:\n",
    "    csv_reader = csv.DictReader(csv_file)\n",
    "    for row in csv_reader:\n",
    "        features[row['name']] = np.array([float(el) for el in row['feature'][1:-1].split(', ')])\n",
    "\n",
    "print(f'features: {len(features)}\\nfeature dim: {next(iter(features.values())).shape}')"
   ]
  },
  {
   "cell_type": "code",
   "execution_count": 88,
   "metadata": {},
   "outputs": [],
   "source": [
    "def get_label(name):\n",
    "    return re.search(r'([^_]+)_[0-9]+[^0-9]+$', name).group(1)"
   ]
  },
  {
   "cell_type": "code",
   "execution_count": 89,
   "metadata": {},
   "outputs": [
    {
     "name": "stdout",
     "output_type": "stream",
     "text": [
      "['airplane', 'automobile', 'bird', 'cat', 'deer', 'dog', 'frog', 'horse', 'ship', 'truck']\n",
      "{'airplane': 0, 'automobile': 1, 'bird': 2, 'cat': 3, 'deer': 4, 'dog': 5, 'frog': 6, 'horse': 7, 'ship': 8, 'truck': 9}\n"
     ]
    }
   ],
   "source": [
    "labels = np.unique([get_label(k) for k in features.keys()]).tolist()\n",
    "label_to_index = {l: i for i, l in enumerate(labels)}\n",
    "print(labels)\n",
    "print(label_to_index)"
   ]
  },
  {
   "cell_type": "code",
   "execution_count": 90,
   "metadata": {},
   "outputs": [
    {
     "name": "stdout",
     "output_type": "stream",
     "text": [
      "(50000, 512)\n",
      "(50000,)\n"
     ]
    }
   ],
   "source": [
    "X = []\n",
    "y = []\n",
    "\n",
    "for k in features.keys():\n",
    "    X.append(features[k])\n",
    "    y.append(label_to_index[get_label(k)])\n",
    "\n",
    "X, y = np.array(X), np.array(y)\n",
    "\n",
    "if STANDARD_SCALING:\n",
    "    X = StandardScaler().fit_transform(X)\n",
    "\n",
    "print(X.shape)\n",
    "print(y.shape)"
   ]
  },
  {
   "cell_type": "code",
   "execution_count": 91,
   "metadata": {},
   "outputs": [],
   "source": [
    "kmeans = KMeans(n_clusters=NUM_CLASSES, random_state=0, n_init='auto').fit(X)\n",
    "y_pred = kmeans.labels_"
   ]
  },
  {
   "cell_type": "code",
   "execution_count": 92,
   "metadata": {},
   "outputs": [
    {
     "name": "stdout",
     "output_type": "stream",
     "text": [
      "accuracy: 0.51886\n",
      "normalized mutual information: 0.46857903223959696\n",
      "adjusted rand score: 0.32299032023469637\n"
     ]
    }
   ],
   "source": [
    "print(f'accuracy: {accuracy(y_pred, y)}')\n",
    "print(f'normalized mutual information: {metrics.normalized_mutual_info_score(y, y_pred)}')\n",
    "print(f'adjusted rand score: {metrics.adjusted_rand_score(y, y_pred)}')"
   ]
  }
 ],
 "metadata": {
  "kernelspec": {
   "display_name": ".venv",
   "language": "python",
   "name": "python3"
  },
  "language_info": {
   "codemirror_mode": {
    "name": "ipython",
    "version": 3
   },
   "file_extension": ".py",
   "mimetype": "text/x-python",
   "name": "python",
   "nbconvert_exporter": "python",
   "pygments_lexer": "ipython3",
   "version": "3.8.16"
  },
  "orig_nbformat": 4
 },
 "nbformat": 4,
 "nbformat_minor": 2
}
