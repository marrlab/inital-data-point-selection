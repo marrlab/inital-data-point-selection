{
 "cells": [
  {
   "cell_type": "code",
   "execution_count": 26,
   "metadata": {},
   "outputs": [],
   "source": [
    "import timeit\n",
    "import numpy as np\n",
    "from scipy.spatial.distance import cdist"
   ]
  },
  {
   "attachments": {},
   "cell_type": "markdown",
   "metadata": {},
   "source": [
    "# furthest point sampling"
   ]
  },
  {
   "cell_type": "code",
   "execution_count": 50,
   "metadata": {},
   "outputs": [],
   "source": [
    "def furthest_point_sampling_a(points, k, seed=None):\n",
    "    \"\"\"\n",
    "    Select k points from an array of points such that the distance between any two selected points\n",
    "    is maximized.\n",
    "\n",
    "    Args:\n",
    "        points (np.array): array of shape (N, d) containing N points in d-dimensional space\n",
    "        k (int): number of points to select\n",
    "\n",
    "    Returns:\n",
    "        np.array: array of shape (k, d) containing the selected points\n",
    "    \"\"\"\n",
    "\n",
    "    if seed is not None:\n",
    "        np.random.seed(seed)\n",
    "\n",
    "    # Select the first point randomly\n",
    "    selected = [np.random.randint(points.shape[0])]\n",
    "    dists = np.zeros(points.shape[0])\n",
    "\n",
    "    for i in range(1, k):\n",
    "        # Compute the distance between each point and the nearest selected point\n",
    "        for j, point in enumerate(points):\n",
    "            dists[j] = np.min([np.linalg.norm(point - points[selected_point]) for selected_point in selected])\n",
    "\n",
    "        # Select the point with the largest distance to the nearest selected point\n",
    "        selected.append(np.argmax(dists))\n",
    "\n",
    "    return points[selected]\n"
   ]
  },
  {
   "cell_type": "code",
   "execution_count": 54,
   "metadata": {},
   "outputs": [],
   "source": [
    "def furthest_point_sampling_b(points, k, seed=None):\n",
    "    \"\"\"\n",
    "    Select k points from an array of points such that the distance between any two selected points\n",
    "    is maximized.\n",
    "\n",
    "    Args:\n",
    "        points (np.array): array of shape (N, d) containing N points in d-dimensional space\n",
    "        k (int): number of points to select\n",
    "\n",
    "    Returns:\n",
    "        np.array: array of shape (k, d) containing the selected points\n",
    "    \"\"\"\n",
    "\n",
    "    if seed is not None:\n",
    "        np.random.seed(seed)\n",
    "    \n",
    "    # Select the first point randomly\n",
    "    selected = [np.random.randint(points.shape[0])]\n",
    "    dists = np.linalg.norm(points - points[selected[0]], axis=1)\n",
    "\n",
    "    for i in range(1, k):\n",
    "        # Select the point with the largest distance to the nearest selected point\n",
    "        selected.append(np.argmax(dists))\n",
    "        dists = np.minimum(dists, np.linalg.norm(points - points[selected[-1]], axis=1))\n",
    "\n",
    "    return points[selected]\n"
   ]
  },
  {
   "cell_type": "code",
   "execution_count": 55,
   "metadata": {},
   "outputs": [],
   "source": [
    "def furthest_point_sampling_c(points, k, seed=None):\n",
    "    \"\"\"\n",
    "    Select k points from an array of points such that the distance between any two selected points\n",
    "    is maximized.\n",
    "\n",
    "    Args:\n",
    "        points (np.array): array of shape (N, d) containing N points in d-dimensional space\n",
    "        k (int): number of points to select\n",
    "\n",
    "    Returns:\n",
    "        np.array: array of shape (k, d) containing the selected points\n",
    "    \"\"\"\n",
    "\n",
    "    if seed is not None:\n",
    "        np.random.seed(seed)\n",
    "    \n",
    "    # Initialize a set to store the indices of the selected points\n",
    "    selected = [np.random.randint(points.shape[0])]\n",
    "    \n",
    "    # Iteratively select the next k-1 points\n",
    "    for _ in range(1, k):\n",
    "        dists = cdist(points, points[selected], metric='euclidean').min(axis=1)\n",
    "\n",
    "        # Select the point with the largest distance to the nearest selected point\n",
    "        selected.append(np.argmax(dists))\n",
    "    \n",
    "    return points[selected]    \n"
   ]
  },
  {
   "attachments": {},
   "cell_type": "markdown",
   "metadata": {},
   "source": [
    "# checking equivalence of approaches"
   ]
  },
  {
   "cell_type": "code",
   "execution_count": 56,
   "metadata": {},
   "outputs": [
    {
     "data": {
      "text/plain": [
       "True"
      ]
     },
     "execution_count": 56,
     "metadata": {},
     "output_type": "execute_result"
    }
   ],
   "source": [
    "points = np.random.rand(100, 2)\n",
    "\n",
    "selected_points_a = furthest_point_sampling_a(points, 10, seed=0)\n",
    "selected_points_b = furthest_point_sampling_b(points, 10, seed=0)\n",
    "selected_points_c = furthest_point_sampling_c(points, 10, seed=0)\n",
    "\n",
    "(selected_points_a == selected_points_b).all() and (selected_points_b == selected_points_c).all()"
   ]
  },
  {
   "attachments": {},
   "cell_type": "markdown",
   "metadata": {},
   "source": [
    "# benchmarking"
   ]
  },
  {
   "attachments": {},
   "cell_type": "markdown",
   "metadata": {},
   "source": [
    "## toy case"
   ]
  },
  {
   "cell_type": "code",
   "execution_count": 57,
   "metadata": {},
   "outputs": [
    {
     "name": "stdout",
     "output_type": "stream",
     "text": [
      "furthest_point_sampling_a: 0.010270723749999888\n",
      "furthest_point_sampling_b: 6.807707999996637e-05\n",
      "furthest_point_sampling_c: 7.164332999764156e-05\n"
     ]
    }
   ],
   "source": [
    "NUM_RUNS = 100\n",
    "\n",
    "print('furthest_point_sampling_a:', \n",
    "      timeit.Timer(lambda: furthest_point_sampling_a(np.random.rand(100, 2), 10)).timeit(number=NUM_RUNS) / NUM_RUNS)\n",
    "print('furthest_point_sampling_b:', \n",
    "      timeit.Timer(lambda: furthest_point_sampling_b(np.random.rand(100, 2), 10)).timeit(number=NUM_RUNS) / NUM_RUNS)\n",
    "print('furthest_point_sampling_c:', \n",
    "      timeit.Timer(lambda: furthest_point_sampling_c(np.random.rand(100, 2), 10)).timeit(number=NUM_RUNS) / NUM_RUNS)\n"
   ]
  },
  {
   "attachments": {},
   "cell_type": "markdown",
   "metadata": {},
   "source": [
    "## real-world case"
   ]
  },
  {
   "cell_type": "code",
   "execution_count": 58,
   "metadata": {},
   "outputs": [
    {
     "name": "stdout",
     "output_type": "stream",
     "text": [
      "furthest_point_sampling_b: 2.0521284500000094\n"
     ]
    }
   ],
   "source": [
    "NUM_RUNS = 10\n",
    "\n",
    "print('furthest_point_sampling_b:', \n",
    "      timeit.Timer(lambda: furthest_point_sampling_b(np.random.rand(20000, 512), 100)).timeit(number=NUM_RUNS) / NUM_RUNS)"
   ]
  }
 ],
 "metadata": {
  "kernelspec": {
   "display_name": ".venv",
   "language": "python",
   "name": "python3"
  },
  "language_info": {
   "codemirror_mode": {
    "name": "ipython",
    "version": 3
   },
   "file_extension": ".py",
   "mimetype": "text/x-python",
   "name": "python",
   "nbconvert_exporter": "python",
   "pygments_lexer": "ipython3",
   "version": "3.8.10"
  },
  "orig_nbformat": 4
 },
 "nbformat": 4,
 "nbformat_minor": 2
}
